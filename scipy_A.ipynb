{
 "cells": [
  {
   "cell_type": "code",
   "execution_count": 1,
   "id": "1ee0b7b6-ec15-42c0-bf6d-fb1542853fc8",
   "metadata": {},
   "outputs": [
    {
     "name": "stdout",
     "output_type": "stream",
     "text": [
      "Optimal Solution:\n",
      "x = 0.2349, y = -0.9285\n",
      "Minimum Value of f(x, y) = 7.3450\n"
     ]
    }
   ],
   "source": [
    "from scipy.optimize import minimize\n",
    "import numpy as np\n",
    "\n",
    "# Define the objective function\n",
    "def objective(vars):\n",
    "    x, y = vars\n",
    "    return 2 * (x - y - 3)**2 + 4 * (x + 2 * y + 1)**4\n",
    "\n",
    "# Define constraints\n",
    "constraints = [\n",
    "    {'type': 'ineq', 'fun': lambda vars: vars[0] - vars[1] + 3},  # x - y >= -3\n",
    "    {'type': 'ineq', 'fun': lambda vars: 5 - ((vars[0] + 2)**2 + (vars[1] + 1)**2)}  # (x+2)^2 + (y+1)^2 <= 5\n",
    "]\n",
    "\n",
    "# Initial guess\n",
    "initial_guess = [0, 0]\n",
    "\n",
    "# Solve the minimization problem\n",
    "result = minimize(objective, initial_guess, constraints=constraints)\n",
    "\n",
    "# Display results\n",
    "print(\"Optimal Solution:\")\n",
    "print(f\"x = {result.x[0]:.4f}, y = {result.x[1]:.4f}\")\n",
    "print(f\"Minimum Value of f(x, y) = {result.fun:.4f}\")\n"
   ]
  }
 ],
 "metadata": {
  "kernelspec": {
   "display_name": "Python 3 (ipykernel)",
   "language": "python",
   "name": "python3"
  },
  "language_info": {
   "codemirror_mode": {
    "name": "ipython",
    "version": 3
   },
   "file_extension": ".py",
   "mimetype": "text/x-python",
   "name": "python",
   "nbconvert_exporter": "python",
   "pygments_lexer": "ipython3",
   "version": "3.12.4"
  }
 },
 "nbformat": 4,
 "nbformat_minor": 5
}
