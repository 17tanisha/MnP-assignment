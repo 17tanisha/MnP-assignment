{
 "cells": [
  {
   "cell_type": "code",
   "execution_count": 1,
   "id": "2c3fe048-726c-4d05-aab1-499516e8d14b",
   "metadata": {},
   "outputs": [
    {
     "name": "stdout",
     "output_type": "stream",
     "text": [
      "Line Integral Value: 53.0536\n"
     ]
    }
   ],
   "source": [
    "from scipy.integrate import quad\n",
    "import numpy as np\n",
    "\n",
    "# Parameterization of the circle\n",
    "r = np.sqrt(3)  # Radius of the circle\n",
    "\n",
    "# Define the function f(x, y)\n",
    "def f(t):\n",
    "    x = r * np.cos(t)\n",
    "    y = r * np.sin(t)\n",
    "    return x**2 + y**4\n",
    "\n",
    "# Norm of the derivative of the parameterized function (ds/dt)\n",
    "def ds_dt(t):\n",
    "    dx_dt = -r * np.sin(t)\n",
    "    dy_dt = r * np.cos(t)\n",
    "    return np.sqrt(dx_dt**2 + dy_dt**2)\n",
    "\n",
    "# Integrand for the line integral\n",
    "def integrand(t):\n",
    "    return f(t) * ds_dt(t)\n",
    "\n",
    "# Perform the integration over [0, 2*pi]\n",
    "result, _ = quad(integrand, 0, 2 * np.pi)\n",
    "\n",
    "# Display result\n",
    "print(f\"Line Integral Value: {result:.4f}\")\n"
   ]
  }
 ],
 "metadata": {
  "kernelspec": {
   "display_name": "Python 3 (ipykernel)",
   "language": "python",
   "name": "python3"
  },
  "language_info": {
   "codemirror_mode": {
    "name": "ipython",
    "version": 3
   },
   "file_extension": ".py",
   "mimetype": "text/x-python",
   "name": "python",
   "nbconvert_exporter": "python",
   "pygments_lexer": "ipython3",
   "version": "3.12.4"
  }
 },
 "nbformat": 4,
 "nbformat_minor": 5
}
