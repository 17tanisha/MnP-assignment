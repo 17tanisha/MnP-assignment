{
 "cells": [
  {
   "cell_type": "code",
   "execution_count": 1,
   "id": "8e37cfdb-569a-45d4-a7ee-f7f9220e63a9",
   "metadata": {},
   "outputs": [
    {
     "name": "stdout",
     "output_type": "stream",
     "text": [
      "roll_number,department,credit,course_name,course_type,grade\n",
      "588946,MA,3,EC250,hasmed_elective,AB\n",
      "145372,EP,4,EP407,hasmed_elective,CC\n",
      "834515,MA,8,EP885,hasmed_elective,BB\n",
      "344265,CSE,6,CSE699,honours,AB\n",
      "358405,MA,3,EE460,minor,AP\n",
      "781075,CE,8,CE540,honours,CC\n",
      "180828,CSE,6,CE880,minor,AB\n",
      "981238,MM,4,CSE226,minor,AB\n",
      "836881,MM,8,MM530,core,AA\n"
     ]
    }
   ],
   "source": [
    "def print_first_10_rows(student_records):\n",
    "\n",
    "    with open(student_records, 'r') as file:\n",
    "        for i, line in enumerate(file):\n",
    "            if i == 10:\n",
    "                break\n",
    "            print(line.strip())\n",
    "\n",
    "print_first_10_rows(\"student_records.csv\")"
   ]
  }
 ],
 "metadata": {
  "kernelspec": {
   "display_name": "Python 3 (ipykernel)",
   "language": "python",
   "name": "python3"
  },
  "language_info": {
   "codemirror_mode": {
    "name": "ipython",
    "version": 3
   },
   "file_extension": ".py",
   "mimetype": "text/x-python",
   "name": "python",
   "nbconvert_exporter": "python",
   "pygments_lexer": "ipython3",
   "version": "3.12.4"
  }
 },
 "nbformat": 4,
 "nbformat_minor": 5
}
