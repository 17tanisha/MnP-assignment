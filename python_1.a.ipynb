{
 "cells": [
  {
   "cell_type": "code",
   "execution_count": 1,
   "id": "47417595-b292-449c-bc08-40461bd29fcc",
   "metadata": {},
   "outputs": [
    {
     "name": "stdout",
     "output_type": "stream",
     "text": [
      "---------A---------\n",
      "--------ABA--------\n",
      "-------ABCBA-------\n",
      "------ABCDCBA------\n",
      "-----ABCDEDCBA-----\n",
      "----ABCDEFEDCBA----\n",
      "---ABCDEFGFEDCBA---\n",
      "--ABCDEFGHGFEDCBA--\n",
      "-ABCDEFGHIHGFEDCBA-\n",
      "ABCDEFGHIJIHGFEDCBA\n",
      "-----A-----\n",
      "----ABA----\n",
      "---ABCBA---\n",
      "--ABCDCBA--\n",
      "-ABCDEDCBA-\n",
      "ABCDEFEDCBA\n"
     ]
    }
   ],
   "source": [
    "def F(n):\n",
    "    for i in range(1, n + 1):\n",
    "        string = \"\"\n",
    "        for j in range(1, i + 1):\n",
    "            string += chr(64 + j)\n",
    "        for j in range(i - 1, 0, -1):\n",
    "            string += chr(64 + j)\n",
    "        print(string.center(2 * n - 1, \"-\"))\n",
    "\n",
    "\n",
    "F(10)\n",
    "F(6)"
   ]
  }
 ],
 "metadata": {
  "kernelspec": {
   "display_name": "Python 3 (ipykernel)",
   "language": "python",
   "name": "python3"
  },
  "language_info": {
   "codemirror_mode": {
    "name": "ipython",
    "version": 3
   },
   "file_extension": ".py",
   "mimetype": "text/x-python",
   "name": "python",
   "nbconvert_exporter": "python",
   "pygments_lexer": "ipython3",
   "version": "3.12.4"
  }
 },
 "nbformat": 4,
 "nbformat_minor": 5
}
